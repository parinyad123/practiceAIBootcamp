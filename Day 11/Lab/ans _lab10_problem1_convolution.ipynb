{
  "nbformat": 4,
  "nbformat_minor": 0,
  "metadata": {
    "colab": {
      "name": "Copy of lab10-problem1-convolution.ipynb",
      "version": "0.3.2",
      "provenance": [],
      "collapsed_sections": []
    },
    "kernelspec": {
      "name": "python3",
      "display_name": "Python 3"
    }
  },
  "cells": [
    {
      "metadata": {
        "id": "eEfRJuG_T0QD",
        "colab_type": "code",
        "colab": {}
      },
      "cell_type": "code",
      "source": [
        "import matplotlib.pyplot as plt\n",
        "import numpy as np\n",
        "\n",
        "plt.style.use('default')\n",
        "\n",
        "input_your_code = None"
      ],
      "execution_count": 0,
      "outputs": []
    },
    {
      "metadata": {
        "id": "lCBac4vTYUKx",
        "colab_type": "code",
        "colab": {}
      },
      "cell_type": "code",
      "source": [
        "'''Create a convolution2d method.\n",
        "You can use a naive algorithm by sliding a kernel on top of the image\n",
        "Element-wise multiply kernel with the image area under the kernel,\n",
        "sum all the values and then store it into each location of a new image output.\n",
        "'''\n",
        "def convolution2d(image, kernel, bias=0):\n",
        "  m, n = kernel.shape\n",
        "  # Check if a kernel has square shape\n",
        "  if (m == n):\n",
        "    y, x = image.shape\n",
        "    '''Dimension for the output\n",
        "    output_dimension = (input_dimension + 2*padding_size - kernel_size)/stride + 1\n",
        "    In this case padding is zero, stride is one, there fore we have the output shape\n",
        "    as we seen below.\n",
        "    '''\n",
        "    padding = 0\n",
        "    stride = 1\n",
        "    height = (y + 2*padding - m)//stride + 1\n",
        "    width = (x + 2*padding - n)//stride + 1\n",
        "    \n",
        "    feature_map = np.zeros((width, height)).astype('int8')\n",
        "    \n",
        "    '''Moving kernel from top left of the image and \n",
        "    multiply element-wise between kernel and image area under the kernel,\n",
        "    then sum all values (This is actually dot product).\n",
        "    '''\n",
        "    for i in range(width):\n",
        "      for j in range(height):\n",
        "        feature_map[i][j] = np.sum(image[i:i+m, j:j+n] * kernel) + bias\n",
        "        \n",
        "    return feature_map\n",
        " \n",
        "\n",
        "\n",
        "def display(image):\n",
        "  print(image)\n",
        "  plt.grid(c='grey')\n",
        "  plt.xticks(np.arange(0, image.shape[0]+1, dtype=np.int))\n",
        "  plt.yticks(np.arange(0, image.shape[1]+1, dtype=np.int))\n",
        "  plt.imshow(\n",
        "      image,\n",
        "      cmap=plt.cm.gray,\n",
        "      extent=[0, image.shape[0], 0, image.shape[1]]\n",
        "  )\n",
        "  plt.show()"
      ],
      "execution_count": 0,
      "outputs": []
    },
    {
      "metadata": {
        "id": "LQ36ybpG2ZgO",
        "colab_type": "text"
      },
      "cell_type": "markdown",
      "source": [
        "# Vertical Edge Detection\n",
        "\n"
      ]
    },
    {
      "metadata": {
        "id": "Yo9uZfbeZQoG",
        "colab_type": "code",
        "colab": {
          "base_uri": "https://localhost:8080/",
          "height": 580
        },
        "outputId": "7ce65043-22cb-4ab0-a847-dfae338a99b2"
      },
      "cell_type": "code",
      "source": [
        "'''Create numpy array as image1 and display it.\n",
        "[[10 10 10  0  0  0]\n",
        " [10 10 10  0  0  0]\n",
        " [10 10 10  0  0  0]\n",
        " [10 10 10  0  0  0]\n",
        " [10 10 10  0  0  0]\n",
        " [10 10 10  0  0  0]]\n",
        " '''\n",
        "\n",
        "image1 = np.array(\n",
        "    [[10, 10, 10, 0, 0, 0]] * 6\n",
        ")\n",
        "display(image1)"
      ],
      "execution_count": 17,
      "outputs": [
        {
          "output_type": "stream",
          "text": [
            "[[10 10 10  0  0  0]\n",
            " [10 10 10  0  0  0]\n",
            " [10 10 10  0  0  0]\n",
            " [10 10 10  0  0  0]\n",
            " [10 10 10  0  0  0]\n",
            " [10 10 10  0  0  0]]\n"
          ],
          "name": "stdout"
        },
        {
          "output_type": "display_data",
          "data": {
            "image/png": "[encoded data removed]",
            "text/plain": [
              "<Figure size 640x480 with 1 Axes>"
            ]
          },
          "metadata": {
            "tags": []
          }
        }
      ]
    },
    {
      "metadata": {
        "id": "UUMjLgLDcJUw",
        "colab_type": "code",
        "colab": {
          "base_uri": "https://localhost:8080/",
          "height": 528
        },
        "outputId": "ad8205c3-3bc5-4184-f110-200042783416"
      },
      "cell_type": "code",
      "source": [
        "'''Create vertical_edge_kernel and display it:\n",
        "[[ 1  0 -1]\n",
        " [ 1  0 -1]\n",
        " [ 1  0 -1]]\n",
        "'''\n",
        "\n",
        "vertical_edge_kernel = np.array([[1, 0, -1]]*3)\n",
        "display(vertical_edge_kernel)"
      ],
      "execution_count": 18,
      "outputs": [
        {
          "output_type": "stream",
          "text": [
            "[[ 1  0 -1]\n",
            " [ 1  0 -1]\n",
            " [ 1  0 -1]]\n"
          ],
          "name": "stdout"
        },
        {
          "output_type": "display_data",
          "data": {
            "image/png": "[encoded data removed]",
            "text/plain": [
              "<Figure size 640x480 with 1 Axes>"
            ]
          },
          "metadata": {
            "tags": []
          }
        }
      ]
    },
    {
      "metadata": {
        "id": "eV4Tz1W6ciem",
        "colab_type": "code",
        "colab": {
          "base_uri": "https://localhost:8080/",
          "height": 525
        },
        "outputId": "03e1ea79-8d3d-4da7-b1c9-66e97b5df2df"
      },
      "cell_type": "code",
      "source": [
        "# Call your convolution2d() and display the result.\n",
        "display(convolution2d(image1, vertical_edge_kernel))"
      ],
      "execution_count": 19,
      "outputs": [
        {
          "output_type": "stream",
          "text": [
            "[[ 0 30 30  0]\n",
            " [ 0 30 30  0]\n",
            " [ 0 30 30  0]\n",
            " [ 0 30 30  0]]\n"
          ],
          "name": "stdout"
        },
        {
          "output_type": "display_data",
          "data": {
            "image/png": "[encoded data removed]",
            "text/plain": [
              "<Figure size 640x480 with 1 Axes>"
            ]
          },
          "metadata": {
            "tags": []
          }
        }
      ]
    },
    {
      "metadata": {
        "id": "pz8Wp467pcbY",
        "colab_type": "code",
        "colab": {
          "base_uri": "https://localhost:8080/",
          "height": 560
        },
        "outputId": "8a189695-4a8e-4a23-aa2e-91f7c909a6a7"
      },
      "cell_type": "code",
      "source": [
        "'''Create a numpy array and display it:\n",
        "[[ 0  0  0 10 10 10]\n",
        " [ 0  0  0 10 10 10]\n",
        " [ 0  0  0 10 10 10]\n",
        " [ 0  0  0 10 10 10]\n",
        " [ 0  0  0 10 10 10]\n",
        " [ 0  0  0 10 10 10]]\n",
        "'''\n",
        "image2 = np.array([[0, 0, 0, 10, 10, 10]]*6)\n",
        "\n",
        "display(image2)"
      ],
      "execution_count": 20,
      "outputs": [
        {
          "output_type": "stream",
          "text": [
            "[[ 0  0  0 10 10 10]\n",
            " [ 0  0  0 10 10 10]\n",
            " [ 0  0  0 10 10 10]\n",
            " [ 0  0  0 10 10 10]\n",
            " [ 0  0  0 10 10 10]\n",
            " [ 0  0  0 10 10 10]]\n"
          ],
          "name": "stdout"
        },
        {
          "output_type": "display_data",
          "data": {
            "image/png": "[encoded data removed]",
            "text/plain": [
              "<Figure size 640x480 with 1 Axes>"
            ]
          },
          "metadata": {
            "tags": []
          }
        }
      ]
    },
    {
      "metadata": {
        "id": "FP9oyq8YrBOM",
        "colab_type": "code",
        "colab": {
          "base_uri": "https://localhost:8080/",
          "height": 525
        },
        "outputId": "f8eb6fe9-3f35-4824-e926-85d2fff673d0"
      },
      "cell_type": "code",
      "source": [
        "# Call your convolution2d() and display the result.\n",
        "display(convolution2d(image2, vertical_edge_kernel))"
      ],
      "execution_count": 21,
      "outputs": [
        {
          "output_type": "stream",
          "text": [
            "[[  0 -30 -30   0]\n",
            " [  0 -30 -30   0]\n",
            " [  0 -30 -30   0]\n",
            " [  0 -30 -30   0]]\n"
          ],
          "name": "stdout"
        },
        {
          "output_type": "display_data",
          "data": {
            "image/png": "[encoded data removed]",
            "text/plain": [
              "<Figure size 640x480 with 1 Axes>"
            ]
          },
          "metadata": {
            "tags": []
          }
        }
      ]
    },
    {
      "metadata": {
        "id": "oPp5h9SI235J",
        "colab_type": "text"
      },
      "cell_type": "markdown",
      "source": [
        "# Horizontal Edge Detection"
      ]
    },
    {
      "metadata": {
        "id": "oLXWyh0frCIu",
        "colab_type": "code",
        "colab": {
          "base_uri": "https://localhost:8080/",
          "height": 999
        },
        "outputId": "a048a721-a910-4d4d-975f-9ba66f146edf"
      },
      "cell_type": "code",
      "source": [
        "'''Create horizontal_edge_kernel and display it:\n",
        "[[ 1  1  1]\n",
        " [ 0  0  0]\n",
        " [-1 -1 -1]]\n",
        "\n",
        "'''\n",
        "horizontal_edge_kernel = np.array(\n",
        "[[1]*3,\n",
        "[0]*3,\n",
        "[-1]*3])\n",
        "\n",
        "\n",
        "\n",
        "horizontal_edge_kernel_1 = np.array([[1, 0, -1]]*3).T\n",
        "\n",
        "display(horizontal_edge_kernel)\n",
        "display(horizontal_edge_kernel_1)"
      ],
      "execution_count": 45,
      "outputs": [
        {
          "output_type": "stream",
          "text": [
            "[[ 1  1  1]\n",
            " [ 0  0  0]\n",
            " [-1 -1 -1]]\n"
          ],
          "name": "stdout"
        },
        {
          "output_type": "display_data",
          "data": {
            "image/png": "[encoded data removed]",
            "text/plain": [
              "<Figure size 640x480 with 1 Axes>"
            ]
          },
          "metadata": {
            "tags": []
          }
        },
        {
          "output_type": "stream",
          "text": [
            "[[ 1  1  1]\n",
            " [ 0  0  0]\n",
            " [-1 -1 -1]]\n"
          ],
          "name": "stdout"
        },
        {
          "output_type": "display_data",
          "data": {
            "image/png": "[encoded data removed]",
            "text/plain": [
              "<Figure size 640x480 with 1 Axes>"
            ]
          },
          "metadata": {
            "tags": []
          }
        }
      ]
    },
    {
      "metadata": {
        "id": "IW2jyDXarzgw",
        "colab_type": "code",
        "colab": {
          "base_uri": "https://localhost:8080/",
          "height": 1084
        },
        "outputId": "e2e133a2-9a15-4f8b-ba1b-50077f795630"
      },
      "cell_type": "code",
      "source": [
        "'''Create an numpy array and display it:\n",
        "[[10 10 10  0  0  0]\n",
        " [10 10 10  0  0  0]\n",
        " [10 10 10  0  0  0]\n",
        " [ 0  0  0 10 10 10]\n",
        " [ 0  0  0 10 10 10]\n",
        " [ 0  0  0 10 10 10]]\n",
        "'''\n",
        "image3 = np.concatenate((\n",
        "    np.array(\n",
        "        [[10, 10, 10, 0, 0, 0]]*3\n",
        "    ),\n",
        "    np.array(\n",
        "        [[0, 0, 0, 10, 10, 10]]*3\n",
        "    )),\n",
        "axis=0)\n",
        "display(image3)\n",
        "\n",
        "\n",
        "\n",
        "\n",
        "image3_2 = np.array(\n",
        "[[10,10,10,0,0,0]]*3 + [[0,0,0,10,10,10]]*3)\n",
        "display(image3_2)\n"
      ],
      "execution_count": 46,
      "outputs": [
        {
          "output_type": "stream",
          "text": [
            "[[10 10 10  0  0  0]\n",
            " [10 10 10  0  0  0]\n",
            " [10 10 10  0  0  0]\n",
            " [ 0  0  0 10 10 10]\n",
            " [ 0  0  0 10 10 10]\n",
            " [ 0  0  0 10 10 10]]\n"
          ],
          "name": "stdout"
        },
        {
          "output_type": "display_data",
          "data": {
            "image/png": "[encoded data removed]",
            "text/plain": [
              "<Figure size 640x480 with 1 Axes>"
            ]
          },
          "metadata": {
            "tags": []
          }
        },
        {
          "output_type": "stream",
          "text": [
            "[[10 10 10  0  0  0]\n",
            " [10 10 10  0  0  0]\n",
            " [10 10 10  0  0  0]\n",
            " [ 0  0  0 10 10 10]\n",
            " [ 0  0  0 10 10 10]\n",
            " [ 0  0  0 10 10 10]]\n"
          ],
          "name": "stdout"
        },
        {
          "output_type": "display_data",
          "data": {
            "image/png": "[encoded data removed]",
            "text/plain": [
              "<Figure size 640x480 with 1 Axes>"
            ]
          },
          "metadata": {
            "tags": []
          }
        }
      ]
    },
    {
      "metadata": {
        "id": "FmMkQVtxsD-v",
        "colab_type": "code",
        "colab": {
          "base_uri": "https://localhost:8080/",
          "height": 525
        },
        "outputId": "974d5672-7868-488f-916c-6b942a2d2521"
      },
      "cell_type": "code",
      "source": [
        "'''Value 0 means there is no edge detected.\n",
        "Value 30 means 3 bright pixels on top, 3 dark pixels on the bottom.\n",
        "Value -30 means 3 dark pixels on top, 3 bright pixels on the bottom.\n",
        "Value 10 is similar to 30 some part of the edge is not bright pixel on top and dark pixel on the bottom.\n",
        "Value -10 is similar to -30 some part of the edge is not dark pixel on top and bright pixel on the bottom.\n",
        "\n",
        "'''\n",
        "# Call your convolution2d(), store it as image4, and display the result.\n",
        "image4 = convolution2d(image3,horizontal_edge_kernel)\n",
        "display(image4)"
      ],
      "execution_count": 47,
      "outputs": [
        {
          "output_type": "stream",
          "text": [
            "[[  0   0   0   0]\n",
            " [ 30  10 -10 -30]\n",
            " [ 30  10 -10 -30]\n",
            " [  0   0   0   0]]\n"
          ],
          "name": "stdout"
        },
        {
          "output_type": "display_data",
          "data": {
            "image/png": "[encoded data removed]",
            "text/plain": [
              "<Figure size 640x480 with 1 Axes>"
            ]
          },
          "metadata": {
            "tags": []
          }
        }
      ]
    },
    {
      "metadata": {
        "id": "QRzQwumdseTY",
        "colab_type": "code",
        "colab": {
          "base_uri": "https://localhost:8080/",
          "height": 960
        },
        "outputId": "800f86ed-197c-41c8-c9e9-0b84298b7f5f"
      },
      "cell_type": "code",
      "source": [
        "# Apply vertical edge kernel on the previous feature maps to see the result.\n",
        "display(vertical_edge_kernel)\n",
        "display(convolution2d(image4, vertical_edge_kernel))"
      ],
      "execution_count": 48,
      "outputs": [
        {
          "output_type": "stream",
          "text": [
            "[[ 1  0 -1]\n",
            " [ 1  0 -1]\n",
            " [ 1  0 -1]]\n"
          ],
          "name": "stdout"
        },
        {
          "output_type": "display_data",
          "data": {
            "image/png": "[encoded data removed]",
            "text/plain": [
              "<Figure size 640x480 with 1 Axes>"
            ]
          },
          "metadata": {
            "tags": []
          }
        },
        {
          "output_type": "stream",
          "text": [
            "[[80 80]\n",
            " [80 80]]\n"
          ],
          "name": "stdout"
        },
        {
          "output_type": "display_data",
          "data": {
            "image/png": "[encoded data removed]",
            "text/plain": [
              "<Figure size 640x480 with 1 Axes>"
            ]
          },
          "metadata": {
            "tags": []
          }
        }
      ]
    },
    {
      "metadata": {
        "id": "BKSnky4CO_r-",
        "colab_type": "code",
        "colab": {}
      },
      "cell_type": "code",
      "source": [
        ""
      ],
      "execution_count": 0,
      "outputs": []
    }
  ]
}